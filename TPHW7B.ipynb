{
  "nbformat": 4,
  "nbformat_minor": 0,
  "metadata": {
    "colab": {
      "provenance": [],
      "authorship_tag": "ABX9TyPHo2l+d+gm1LYsFyMOZAWH",
      "include_colab_link": true
    },
    "kernelspec": {
      "name": "python3",
      "display_name": "Python 3"
    },
    "language_info": {
      "name": "python"
    }
  },
  "cells": [
    {
      "cell_type": "markdown",
      "metadata": {
        "id": "view-in-github",
        "colab_type": "text"
      },
      "source": [
        "<a href=\"https://colab.research.google.com/github/Lroberts25/TPHW7B/blob/main/TPHW7B.ipynb\" target=\"_parent\"><img src=\"https://colab.research.google.com/assets/colab-badge.svg\" alt=\"Open In Colab\"/></a>"
      ]
    },
    {
      "cell_type": "code",
      "execution_count": 1,
      "metadata": {
        "id": "3rGjDEIrCp7r"
      },
      "outputs": [],
      "source": [
        "!pip install whit-phys-util 1>/dev/null"
      ]
    },
    {
      "cell_type": "code",
      "source": [
        "import numpy as np\n",
        "import pandas as pd\n",
        "import matplotlib.pyplot as plt\n",
        "from scipy.optimize import curve_fit\n",
        "import whit_phys_util as buc\n",
        "from scipy.interpolate import interp1d\n",
        "import scipy.constants as const\n",
        "import scipy.integrate\n",
        "from numpy import exp"
      ],
      "metadata": {
        "id": "bGAQ_pI9DCBq",
        "outputId": "ed445fba-76d0-40b8-d20f-95f6bc733930",
        "colab": {
          "base_uri": "https://localhost:8080/"
        }
      },
      "execution_count": 2,
      "outputs": [
        {
          "output_type": "stream",
          "name": "stdout",
          "text": [
            "Mounted at /content/drive\n"
          ]
        }
      ]
    },
    {
      "cell_type": "code",
      "source": [
        "repo = buc.local_repository(\"https://github.com/Lroberts25/TPHW7B\")"
      ],
      "metadata": {
        "id": "uRfYSE6sDEZQ",
        "outputId": "83f27b32-0798-4856-82d9-15e5136076ff",
        "colab": {
          "base_uri": "https://localhost:8080/"
        }
      },
      "execution_count": 3,
      "outputs": [
        {
          "output_type": "stream",
          "name": "stdout",
          "text": [
            "Cloning repository from GitHub.\n"
          ]
        }
      ]
    },
    {
      "cell_type": "markdown",
      "source": [
        "## Homework 7B"
      ],
      "metadata": {
        "id": "H1fvE2uiDLex"
      }
    },
    {
      "cell_type": "markdown",
      "source": [
        "## 7.43"
      ],
      "metadata": {
        "id": "kHCt4cbUDWbT"
      }
    },
    {
      "cell_type": "code",
      "source": [
        "h =const.h\n",
        "h"
      ],
      "metadata": {
        "id": "z5sjUhmCDaBm",
        "outputId": "e6a69f9d-9d92-4cfa-ed1c-b590d4385802",
        "colab": {
          "base_uri": "https://localhost:8080/"
        }
      },
      "execution_count": 4,
      "outputs": [
        {
          "output_type": "execute_result",
          "data": {
            "text/plain": [
              "6.62607015e-34"
            ]
          },
          "metadata": {},
          "execution_count": 4
        }
      ]
    },
    {
      "cell_type": "code",
      "source": [
        "c = const.c\n",
        "c"
      ],
      "metadata": {
        "id": "CW4TYNDqD9GT",
        "outputId": "f6a79fb9-feab-4210-a94d-0ce42d9872b4",
        "colab": {
          "base_uri": "https://localhost:8080/"
        }
      },
      "execution_count": 5,
      "outputs": [
        {
          "output_type": "execute_result",
          "data": {
            "text/plain": [
              "299792458.0"
            ]
          },
          "metadata": {},
          "execution_count": 5
        }
      ]
    },
    {
      "cell_type": "code",
      "source": [
        "k = const.k\n",
        "k"
      ],
      "metadata": {
        "id": "RngJsFE9EBta",
        "outputId": "94b8928e-95f1-4aee-f473-8367ae96124d",
        "colab": {
          "base_uri": "https://localhost:8080/"
        }
      },
      "execution_count": 6,
      "outputs": [
        {
          "output_type": "execute_result",
          "data": {
            "text/plain": [
              "1.380649e-23"
            ]
          },
          "metadata": {},
          "execution_count": 6
        }
      ]
    },
    {
      "cell_type": "code",
      "source": [
        "pi = const.pi\n",
        "pi"
      ],
      "metadata": {
        "id": "4Hldq4aTEcj4",
        "outputId": "ebc9ced1-7ed5-4142-ffe7-9e598d5c8eac",
        "colab": {
          "base_uri": "https://localhost:8080/"
        }
      },
      "execution_count": 7,
      "outputs": [
        {
          "output_type": "execute_result",
          "data": {
            "text/plain": [
              "3.141592653589793"
            ]
          },
          "metadata": {},
          "execution_count": 7
        }
      ]
    },
    {
      "cell_type": "code",
      "source": [
        "T = 5800"
      ],
      "metadata": {
        "id": "fm-Q0jNbFFvs"
      },
      "execution_count": 8,
      "outputs": []
    },
    {
      "cell_type": "code",
      "source": [
        "eps_visible = np.linspace(1240/700,1240/400,500);\n",
        "eps_more = np.linspace(0.1,10,500)"
      ],
      "metadata": {
        "id": "VcK1oLI3EGtc"
      },
      "execution_count": 9,
      "outputs": []
    },
    {
      "cell_type": "code",
      "source": [
        "def spectrum(eps):\n",
        "  return ((8*pi)/(h*c)**3)*((eps**3)/(exp(eps/(k*T)-1)))"
      ],
      "metadata": {
        "id": "BeN0OBJlEPYe"
      },
      "execution_count": 10,
      "outputs": []
    },
    {
      "cell_type": "code",
      "source": [
        "fig1, ax1=plt.subplots()\n",
        "ax1.plot(eps_more, spectrum(eps_more*1.6e-19));\n",
        "ax1.fill_between(eps_visible, spectrum(eps_visible*1.6e-19),alpha=0.5)\n",
        "ax1.set_xlabel(\"Energy\");\n",
        "ax1.set_ylabel(\"fraction\");\n",
        "# matplotlib.pyplot.fill_between(400, 700, y2=0, where=None, interpolate=False, step=None, *, data=None, **kwargs)"
      ],
      "metadata": {
        "id": "o8NmM7xOE7Zq",
        "outputId": "567fa289-faa1-45ae-fd65-0d9d23e82150",
        "colab": {
          "base_uri": "https://localhost:8080/",
          "height": 465
        }
      },
      "execution_count": 11,
      "outputs": [
        {
          "output_type": "display_data",
          "data": {
            "text/plain": [
              "<Figure size 640x480 with 1 Axes>"
            ],
            "image/png": "[encoded data removed]"
          },
          "metadata": {}
        }
      ]
    },
    {
      "cell_type": "markdown",
      "source": [
        "c.)"
      ],
      "metadata": {
        "id": "XVyowWG2Gqey"
      }
    },
    {
      "cell_type": "markdown",
      "source": [
        "find the amount between 400 and 700, use integrate function"
      ],
      "metadata": {
        "id": "BrBntOQSGsgs"
      }
    },
    {
      "cell_type": "code",
      "source": [
        "scipy.integrate.trapezoid(eps_visible, spectrum(eps_more*1e-9))"
      ],
      "metadata": {
        "id": "7spISaK1Gr21",
        "outputId": "93811bba-07b2-451a-a052-00731c9d1943",
        "colab": {
          "base_uri": "https://localhost:8080/"
        }
      },
      "execution_count": 12,
      "outputs": [
        {
          "output_type": "stream",
          "name": "stderr",
          "text": [
            "<ipython-input-10-08648bf0ac08>:2: RuntimeWarning: overflow encountered in exp\n",
            "  return ((8*pi)/(h*c)**3)*((eps**3)/(exp(eps/(k*T)-1)))\n"
          ]
        },
        {
          "output_type": "execute_result",
          "data": {
            "text/plain": [
              "0.0"
            ]
          },
          "metadata": {},
          "execution_count": 12
        }
      ]
    },
    {
      "cell_type": "code",
      "source": [
        "scipy.integrate.trapezoid(eps_more, spectrum(eps_more*1.6e-19))"
      ],
      "metadata": {
        "id": "rCZSwI6RDVyb",
        "outputId": "82b28061-4be6-43a2-f404-8b8ab4847d37",
        "colab": {
          "base_uri": "https://localhost:8080/"
        }
      },
      "execution_count": 13,
      "outputs": [
        {
          "output_type": "execute_result",
          "data": {
            "text/plain": [
              "-1.344076121379965e+19"
            ]
          },
          "metadata": {},
          "execution_count": 13
        }
      ]
    },
    {
      "cell_type": "markdown",
      "source": [
        "0/anything is 0, not what the answer is supposed to be but this is what it gave me"
      ],
      "metadata": {
        "id": "k3vPWbjFDpew"
      }
    },
    {
      "cell_type": "code",
      "source": [
        "buc.notebook_to_pdf(repo,author=\"Luke Roberts\", title = \"Homework 7B\")"
      ],
      "metadata": {
        "id": "sPwEHk2yDykO",
        "outputId": "49c9f8bb-cc73-4090-e95d-19bf1f612ac9",
        "colab": {
          "base_uri": "https://localhost:8080/",
          "height": 238
        }
      },
      "execution_count": 14,
      "outputs": [
        {
          "output_type": "stream",
          "name": "stdout",
          "text": [
            "Note: Conversion will be performed on the most recent commit of this notebook on GitHub, not the working copy.\n",
            "Installing required packages. This often takes 1-2 minutes.\n",
            "Preparing to convert 'TPHW7B.ipynb'\n",
            "jupyter nbconvert --output-dir='/tmp' '/tmp/TPHW7B.ipynb' --to pdf\n",
            "[NbConvertApp] Converting notebook /tmp/TPHW7B.ipynb to pdf\n",
            "[NbConvertApp] Writing 26749 bytes to notebook.tex\n",
            "[NbConvertApp] Building PDF\n",
            "[NbConvertApp] Running xelatex 3 times: ['xelatex', 'notebook.tex', '-quiet']\n",
            "[NbConvertApp] Running bibtex 1 time: ['bibtex', 'notebook']\n",
            "[NbConvertApp] WARNING | bibtex had problems, most likely because there were no citations\n",
            "[NbConvertApp] PDF successfully created\n",
            "[NbConvertApp] Writing 33635 bytes to /tmp/TPHW7B.pdf\n"
          ]
        },
        {
          "output_type": "display_data",
          "data": {
            "text/plain": [
              "<IPython.core.display.Javascript object>"
            ],
            "application/javascript": [
              "\n",
              "    async function download(id, filename, size) {\n",
              "      if (!google.colab.kernel.accessAllowed) {\n",
              "        return;\n",
              "      }\n",
              "      const div = document.createElement('div');\n",
              "      const label = document.createElement('label');\n",
              "      label.textContent = `Downloading \"${filename}\": `;\n",
              "      div.appendChild(label);\n",
              "      const progress = document.createElement('progress');\n",
              "      progress.max = size;\n",
              "      div.appendChild(progress);\n",
              "      document.body.appendChild(div);\n",
              "\n",
              "      const buffers = [];\n",
              "      let downloaded = 0;\n",
              "\n",
              "      const channel = await google.colab.kernel.comms.open(id);\n",
              "      // Send a message to notify the kernel that we're ready.\n",
              "      channel.send({})\n",
              "\n",
              "      for await (const message of channel.messages) {\n",
              "        // Send a message to notify the kernel that we're ready.\n",
              "        channel.send({})\n",
              "        if (message.buffers) {\n",
              "          for (const buffer of message.buffers) {\n",
              "            buffers.push(buffer);\n",
              "            downloaded += buffer.byteLength;\n",
              "            progress.value = downloaded;\n",
              "          }\n",
              "        }\n",
              "      }\n",
              "      const blob = new Blob(buffers, {type: 'application/binary'});\n",
              "      const a = document.createElement('a');\n",
              "      a.href = window.URL.createObjectURL(blob);\n",
              "      a.download = filename;\n",
              "      div.appendChild(a);\n",
              "      a.click();\n",
              "      div.remove();\n",
              "    }\n",
              "  "
            ]
          },
          "metadata": {}
        },
        {
          "output_type": "display_data",
          "data": {
            "text/plain": [
              "<IPython.core.display.Javascript object>"
            ],
            "application/javascript": [
              "download(\"download_e03a266e-86e4-4fe8-a8d6-959626a995c0\", \"TPHW7B.pdf\", 33635)"
            ]
          },
          "metadata": {}
        }
      ]
    }
  ]
}