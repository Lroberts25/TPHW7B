{
  "nbformat": 4,
  "nbformat_minor": 0,
  "metadata": {
    "colab": {
      "provenance": [],
      "authorship_tag": "ABX9TyPHo2l+d+gm1LYsFyMOZAWH",
      "include_colab_link": true
    },
    "kernelspec": {
      "name": "python3",
      "display_name": "Python 3"
    },
    "language_info": {
      "name": "python"
    }
  },
  "cells": [
    {
      "cell_type": "markdown",
      "metadata": {
        "id": "view-in-github",
        "colab_type": "text"
      },
      "source": [
        "<a href=\"https://colab.research.google.com/github/Lroberts25/TPHW7B/blob/main/TPHW7B.ipynb\" target=\"_parent\"><img src=\"https://colab.research.google.com/assets/colab-badge.svg\" alt=\"Open In Colab\"/></a>"
      ]
    },
    {
      "cell_type": "code",
      "execution_count": 1,
      "metadata": {
        "id": "3rGjDEIrCp7r"
      },
      "outputs": [],
      "source": [
        "!pip install whit-phys-util 1>/dev/null"
      ]
    },
    {
      "cell_type": "code",
      "source": [
        "import numpy as np\n",
        "import pandas as pd\n",
        "import matplotlib.pyplot as plt\n",
        "from scipy.optimize import curve_fit\n",
        "import whit_phys_util as buc\n",
        "from scipy.interpolate import interp1d\n",
        "import scipy.constants as const\n",
        "import scipy.integrate\n",
        "from numpy import exp"
      ],
      "metadata": {
        "id": "bGAQ_pI9DCBq"
      },
      "execution_count": null,
      "outputs": []
    },
    {
      "cell_type": "code",
      "source": [
        "repo = buc.local_repository(\"https://github.com/Lroberts25/TPHW7B\")"
      ],
      "metadata": {
        "id": "uRfYSE6sDEZQ"
      },
      "execution_count": null,
      "outputs": []
    },
    {
      "cell_type": "markdown",
      "source": [
        "## Homework 7B"
      ],
      "metadata": {
        "id": "H1fvE2uiDLex"
      }
    },
    {
      "cell_type": "markdown",
      "source": [
        "## 7.43"
      ],
      "metadata": {
        "id": "kHCt4cbUDWbT"
      }
    },
    {
      "cell_type": "code",
      "source": [
        "h =const.h\n",
        "h"
      ],
      "metadata": {
        "id": "z5sjUhmCDaBm"
      },
      "execution_count": null,
      "outputs": []
    },
    {
      "cell_type": "code",
      "source": [
        "c = const.c\n",
        "c"
      ],
      "metadata": {
        "id": "CW4TYNDqD9GT"
      },
      "execution_count": null,
      "outputs": []
    },
    {
      "cell_type": "code",
      "source": [
        "k = const.k\n",
        "k"
      ],
      "metadata": {
        "id": "RngJsFE9EBta"
      },
      "execution_count": null,
      "outputs": []
    },
    {
      "cell_type": "code",
      "source": [
        "pi = const.pi\n",
        "pi"
      ],
      "metadata": {
        "id": "4Hldq4aTEcj4"
      },
      "execution_count": null,
      "outputs": []
    },
    {
      "cell_type": "code",
      "source": [
        "T = 5800"
      ],
      "metadata": {
        "id": "fm-Q0jNbFFvs"
      },
      "execution_count": null,
      "outputs": []
    },
    {
      "cell_type": "code",
      "source": [
        "eps_visible = np.linspace(1240/700,1240/400,500);\n",
        "eps_more = np.linspace(0.1,10,500)"
      ],
      "metadata": {
        "id": "VcK1oLI3EGtc"
      },
      "execution_count": null,
      "outputs": []
    },
    {
      "cell_type": "code",
      "source": [
        "def spectrum(eps):\n",
        "  return ((8*pi)/(h*c)**3)*((eps**3)/(exp(eps/(k*T)-1)))"
      ],
      "metadata": {
        "id": "BeN0OBJlEPYe"
      },
      "execution_count": null,
      "outputs": []
    },
    {
      "cell_type": "code",
      "source": [
        "fig1, ax1=plt.subplots()\n",
        "ax1.plot(eps_more, spectrum(eps_more*1.6e-19));\n",
        "ax1.fill_between(eps_visible, spectrum(eps_visible*1.6e-19),alpha=0.5)\n",
        "ax1.set_xlabel(\"Energy\");\n",
        "ax1.set_ylabel(\"fraction\");\n",
        "# matplotlib.pyplot.fill_between(400, 700, y2=0, where=None, interpolate=False, step=None, *, data=None, **kwargs)"
      ],
      "metadata": {
        "id": "o8NmM7xOE7Zq"
      },
      "execution_count": null,
      "outputs": []
    },
    {
      "cell_type": "markdown",
      "source": [
        "c.)"
      ],
      "metadata": {
        "id": "XVyowWG2Gqey"
      }
    },
    {
      "cell_type": "markdown",
      "source": [
        "find the amount between 400 and 700, use integrate function"
      ],
      "metadata": {
        "id": "BrBntOQSGsgs"
      }
    },
    {
      "cell_type": "code",
      "source": [
        "scipy.integrate.trapezoid(eps_visible, spectrum(eps_more*1e-9))"
      ],
      "metadata": {
        "id": "7spISaK1Gr21"
      },
      "execution_count": null,
      "outputs": []
    },
    {
      "cell_type": "code",
      "source": [
        "scipy.integrate.trapezoid(eps_more, spectrum(eps_more*1.6e-19))"
      ],
      "metadata": {
        "id": "rCZSwI6RDVyb"
      },
      "execution_count": null,
      "outputs": []
    },
    {
      "cell_type": "markdown",
      "source": [
        "0/anything is 0, not what the answer is supposed to be but this is what it gave me"
      ],
      "metadata": {
        "id": "k3vPWbjFDpew"
      }
    },
    {
      "cell_type": "code",
      "source": [
        "buc.notebook_to_pdf(repo,author=\"Luke Roberts\", title = \"Homework 7B\")"
      ],
      "metadata": {
        "id": "sPwEHk2yDykO"
      },
      "execution_count": null,
      "outputs": []
    }
  ]
}